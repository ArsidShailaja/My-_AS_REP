{
    "nbformat_minor": 1, 
    "cells": [
        {
            "source": "## I would like to compare Restaurants in Chennai and Ahmedabad\n", 
            "cell_type": "markdown", 
            "metadata": {
                "collapsed": true
            }
        }, 
        {
            "source": "### Introduction to the problem\n", 
            "cell_type": "markdown", 
            "metadata": {}
        }, 
        {
            "source": "High quality food is a prerequisite for every human being in order to stay healthy.A quality food provides an individual a better aspects of life by improving the living conditions of not only the individuals but also the society.", 
            "cell_type": "markdown", 
            "metadata": {}
        }, 
        {
            "source": "Now i would like to compare the restaurants in both Chennai and Ahmedabad and would like to provide people with required information based on their current location to figure out which restaurants offers the best quality of food and its benefits.", 
            "cell_type": "markdown", 
            "metadata": {}
        }, 
        {
            "source": "### Data Requirements\n", 
            "cell_type": "markdown", 
            "metadata": {}
        }, 
        {
            "source": " Step 1 - Get the Data from the Internet\n\n", 
            "cell_type": "markdown", 
            "metadata": {}
        }, 
        {
            "source": "Chennai Communities", 
            "cell_type": "markdown", 
            "metadata": {}
        }, 
        {
            "source": "https://www.mapsofindia.com/pincode/india/tamil-nadu/chennai/", 
            "cell_type": "markdown", 
            "metadata": {}
        }, 
        {
            "source": "Ahmedabad Communities", 
            "cell_type": "markdown", 
            "metadata": {}
        }, 
        {
            "source": "https://www.mapsofindia.com/pincode/india/gujarat/ahmedabad/", 
            "cell_type": "markdown", 
            "metadata": {}
        }, 
        {
            "source": "Step 2 - Identify the list of restaurants in these communities\n\n", 
            "cell_type": "markdown", 
            "metadata": {}
        }, 
        {
            "source": "Step 3 -Use the Foresquare API to get the list of restaurants in each community\n\n", 
            "cell_type": "markdown", 
            "metadata": {}
        }, 
        {
            "source": "Step 4-Clean the data\n\n", 
            "cell_type": "markdown", 
            "metadata": {}
        }, 
        {
            "source": "Step 5-Load the data into Dataframe\n\n", 
            "cell_type": "markdown", 
            "metadata": {}
        }, 
        {
            "source": "Step 6 - Get the list of top restaurants in each city based on the number of reviews\n\n", 
            "cell_type": "markdown", 
            "metadata": {}
        }, 
        {
            "source": "Step 7 - Get the best customer service from each reataurants\n\n", 
            "cell_type": "markdown", 
            "metadata": {}
        }, 
        {
            "source": "Step 8 - Recommend the people about the top restaurants in each city accordingly\n\n", 
            "cell_type": "markdown", 
            "metadata": {}
        }, 
        {
            "source": "", 
            "cell_type": "code", 
            "metadata": {}, 
            "outputs": [], 
            "execution_count": null
        }
    ], 
    "metadata": {
        "kernelspec": {
            "display_name": "Python 3.5", 
            "name": "python3", 
            "language": "python"
        }, 
        "language_info": {
            "mimetype": "text/x-python", 
            "nbconvert_exporter": "python", 
            "version": "3.5.5", 
            "name": "python", 
            "pygments_lexer": "ipython3", 
            "file_extension": ".py", 
            "codemirror_mode": {
                "version": 3, 
                "name": "ipython"
            }
        }
    }, 
    "nbformat": 4
}