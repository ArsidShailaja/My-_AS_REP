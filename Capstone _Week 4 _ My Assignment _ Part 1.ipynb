{
    "nbformat_minor": 1, 
    "cells": [
        {
            "source": "## I would like to compare the Restaurants in Chennai and Ahmedabad", 
            "cell_type": "markdown", 
            "metadata": {
                "collapsed": true
            }
        }, 
        {
            "source": "### Introduction to the Problem", 
            "cell_type": "markdown", 
            "metadata": {}
        }, 
        {
            "source": "High quality food is a prerequisite for every human being in order to stay healthy.A quality food provides an individual a better aspects of life by improving the living conditions of not only the individuals but also the society.", 
            "cell_type": "markdown", 
            "metadata": {}
        }, 
        {
            "source": "Now i would like to compare the restaurants in both Chennai and Ahmedabad and would like to provide people with required information based on their current location to figure out which restaurants offers the best quality of food and its benefits.\n\n", 
            "cell_type": "markdown", 
            "metadata": {}
        }, 
        {
            "source": "", 
            "cell_type": "code", 
            "metadata": {}, 
            "outputs": [], 
            "execution_count": null
        }
    ], 
    "metadata": {
        "kernelspec": {
            "display_name": "Python 3.5", 
            "name": "python3", 
            "language": "python"
        }, 
        "language_info": {
            "mimetype": "text/x-python", 
            "nbconvert_exporter": "python", 
            "version": "3.5.5", 
            "name": "python", 
            "file_extension": ".py", 
            "pygments_lexer": "ipython3", 
            "codemirror_mode": {
                "version": 3, 
                "name": "ipython"
            }
        }
    }, 
    "nbformat": 4
}